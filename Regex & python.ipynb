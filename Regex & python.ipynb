{
 "cells": [
  {
   "cell_type": "markdown",
   "metadata": {},
   "source": [
    "# <center>REGEX</center> # \n",
    "<img src=\"https://www.oreilly.com/content/wp-content/uploads/sites/2/2019/06/email-regex_crop-ae942dc427c8cebd3a83c52d17389123.jpg\" alt=\"regex\" style=\"width: 250px;\"/>"
   ]
  },
  {
   "cell_type": "markdown",
   "metadata": {},
   "source": [
    "### What is regex?\n",
    "\n",
    "\n",
    "### The need for regex\n",
    "- email\n",
    "- phone numbers\n",
    "- credit card info\n",
    "- ID's\n",
    "- dates\n",
    "- Any other kind of standarized info\n",
    "\n",
    "\n",
    "\n",
    "#### 1. FINDING the pattern 🔍\n",
    "1.1. Search <br />\n",
    "1.2. Match  <br />\n",
    "1.3. Find all<br />\n",
    "\n",
    "\n",
    "#### 2. WORKING with the pattern 🛠\n",
    "2.1. sub<br />\n",
    "2.2. split<br />\n",
    "2.3. lambda\n"
   ]
  },
  {
   "cell_type": "markdown",
   "metadata": {},
   "source": [
    "###  <center> Your new favoritebookmark: https://regex101.com/ 🤩</center>\n"
   ]
  },
  {
   "cell_type": "markdown",
   "metadata": {},
   "source": [
    "## WHAT ##\n",
    "### characters###\n",
    "\n",
    "##### * (need to be escaped: \"\\d\")  #####\n",
    "\n",
    "- `.`  Any Character Except New Line\n",
    "- `\\d` Digit (0-9)\n",
    "- `\\D` Not a Digit (0-9)\n",
    "- `\\w` Word Character (a-z, A-Z, 0-9, _)\n",
    "- `\\W` Not a Word Character\n",
    "- `\\s` Whitespace (space, tab, newline)\n",
    "- `\\S` Not Whitespace (space, tab, newline)\n",
    "\n",
    "\n",
    "## WHERE ##\n",
    "### anchors & boundaries ###\n",
    "\n",
    "- `\\b` Word Boundary\n",
    "- `\\B` Not a Word Boundary\n",
    "- `^`  Beginning of a String\n",
    "- `$` End of a String\n",
    "\n",
    "\n",
    "\n",
    "- `[]`      - Matches Characters in brackets\n",
    "- `[^ ]`    - Matches Characters NOT in brackets\n",
    "- `|`       - Either Or\n",
    "- `( )`     - Group\n",
    "\n",
    "\n",
    "## HOW MANY ##\n",
    "### Quantifiers###\n",
    "\n",
    "- `*`       - 0 or More\n",
    "- `+`       - 1 or More\n",
    "- `?`       - 0 or One\n",
    "- `{3}`     - Exact Numbe{3}     - Exact Number\n",
    "- `{3,4}`   - Range of Numbers (Minimum, Maximum{3,4}   - Range of Numbers (Minimum, Maximum`)\n",
    "\n",
    "\n",
    "Need to be escaped: . ^ $ * + ? { } \\ | ( )\n",
    "\n",
    "#### Sample Regexs ####\n",
    "\n",
    "[a-zA-Z0-9_.+-]+@[a-zA-Z0-9-]+\\.[a-zA-Z0-9-.]+"
   ]
  },
  {
   "cell_type": "markdown",
   "metadata": {},
   "source": [
    "### 📚 Other resources\n",
    "\n",
    "1️⃣ [The documentation](https://docs.python.org/3/howto/regex.html)<br />\n",
    "2️⃣ [Simple CHEATSHEET](https://medium.com/factory-mind/regex-tutorial-a-simple-cheatsheet-by-examples-649dc1c3f285)  <br />\n",
    "3️⃣ [Tutorial datacamp](https://www.datacamp.com/community/tutorials/python-regular-expression-tutorial)<br />\n",
    "4️⃣ https://www.dataquest.io/blog/regular-expressions-data-scientists/ <br />\n",
    "5️⃣ https://www.kaggle.com/rtatman/fraudulent-email-corpus"
   ]
  },
  {
   "cell_type": "markdown",
   "metadata": {},
   "source": [
    "http://play.inginf.units.it\n",
    "    \n",
    "1, 2, 3 & 4 "
   ]
  },
  {
   "cell_type": "markdown",
   "metadata": {},
   "source": [
    "## 0. Installation and imports"
   ]
  },
  {
   "cell_type": "code",
   "execution_count": null,
   "metadata": {},
   "outputs": [],
   "source": [
    "%%capture\n",
    "!pip3 install regex"
   ]
  },
  {
   "cell_type": "code",
   "execution_count": null,
   "metadata": {},
   "outputs": [],
   "source": [
    "import re\n",
    "import numpy as np\n",
    "import pandas as pd"
   ]
  },
  {
   "cell_type": "markdown",
   "metadata": {},
   "source": [
    "## Basic regex in python"
   ]
  },
  {
   "cell_type": "code",
   "execution_count": null,
   "metadata": {},
   "outputs": [],
   "source": [
    "# What does the r do?\n",
    "\n",
    "print('\\tHola')\n",
    "print(r'\\tHola')"
   ]
  },
  {
   "cell_type": "markdown",
   "metadata": {},
   "source": [
    "### Some examples"
   ]
  },
  {
   "cell_type": "code",
   "execution_count": null,
   "metadata": {},
   "outputs": [],
   "source": [
    "my_text = 'abc . / [ ba bc ba,b 913 bc...abc bac 34 34 +12abc abcabc' "
   ]
  },
  {
   "cell_type": "code",
   "execution_count": null,
   "metadata": {},
   "outputs": [],
   "source": [
    "pattern = (r'abc')"
   ]
  },
  {
   "cell_type": "code",
   "execution_count": null,
   "metadata": {},
   "outputs": [],
   "source": [
    " matches = re.findall(pattern, my_text) #matches = findall()"
   ]
  },
  {
   "cell_type": "code",
   "execution_count": null,
   "metadata": {},
   "outputs": [],
   "source": [
    "matches"
   ]
  },
  {
   "cell_type": "code",
   "execution_count": null,
   "metadata": {},
   "outputs": [],
   "source": [
    "patron = re.compile(r'abc')\n",
    "match = patron.finditer(my_text)\n",
    "\n",
    "for i in match:\n",
    "    print(i)"
   ]
  },
  {
   "cell_type": "code",
   "execution_count": null,
   "metadata": {},
   "outputs": [],
   "source": [
    "my_text[32:38]"
   ]
  },
  {
   "cell_type": "markdown",
   "metadata": {},
   "source": [
    "### Breaking the syntax down:\n",
    "\n",
    "- **raw**: r\n",
    "- **one group**:: (\\w+)\n",
    "- **one character**: between the groups: @\n",
    "- **second group**: ([\\w\\.]+)\n",
    "\n",
    "#### All together:\n",
    "\n",
    "my_regular_expresion = **r'(\\w+)@([\\w\\.]+)'**"
   ]
  },
  {
   "cell_type": "markdown",
   "metadata": {},
   "source": [
    "## 1. FINDING the pattern\n",
    "1.1. Search <br />\n",
    "1.2. Match <br />\n",
    "1.3. Find all"
   ]
  },
  {
   "cell_type": "markdown",
   "metadata": {},
   "source": [
    "### 1.1. Search\n",
    "\n",
    "- **search()**\n",
    "Scan through a string, looking for any location where this RE matches."
   ]
  },
  {
   "cell_type": "code",
   "execution_count": null,
   "metadata": {},
   "outputs": [],
   "source": [
    "email = \"Hi my name is Alice and my email is Alice@mycompany.com\""
   ]
  },
  {
   "cell_type": "code",
   "execution_count": null,
   "metadata": {},
   "outputs": [],
   "source": [
    "match = re.search(r'(\\w+)@([\\w\\.]+)', email)"
   ]
  },
  {
   "cell_type": "code",
   "execution_count": null,
   "metadata": {},
   "outputs": [],
   "source": [
    "#match.group()"
   ]
  },
  {
   "cell_type": "markdown",
   "metadata": {},
   "source": [
    "#### The rain in Spain"
   ]
  },
  {
   "cell_type": "code",
   "execution_count": null,
   "metadata": {},
   "outputs": [],
   "source": [
    "#re.search\n",
    "re.search(pattern, text)"
   ]
  },
  {
   "cell_type": "code",
   "execution_count": null,
   "metadata": {},
   "outputs": [],
   "source": [
    "my_string = \"The rain in Spain\"\n",
    "a = re.search(\"^The.*Spain$\", my_string)"
   ]
  },
  {
   "cell_type": "code",
   "execution_count": null,
   "metadata": {},
   "outputs": [],
   "source": [
    "a"
   ]
  },
  {
   "cell_type": "code",
   "execution_count": null,
   "metadata": {},
   "outputs": [],
   "source": [
    "my_string[:17]"
   ]
  },
  {
   "cell_type": "code",
   "execution_count": null,
   "metadata": {},
   "outputs": [],
   "source": [
    "txt = \"The rain in Spain\"\n",
    "\n",
    "#\\b whole words only\n",
    "x = re.search(r\"\\bS\\w+\", txt)\n",
    "\n",
    "\n",
    "#x, span, start, end, string, group "
   ]
  },
  {
   "cell_type": "code",
   "execution_count": null,
   "metadata": {},
   "outputs": [],
   "source": [
    "print(re.search(r'r\\w*', txt))\n",
    "print(re.search(r'R\\w*', txt))\n",
    "print(re.search(r'^T\\w*', txt))\n",
    "print(re.search(r'^t\\w*', txt))"
   ]
  },
  {
   "cell_type": "code",
   "execution_count": null,
   "metadata": {},
   "outputs": [],
   "source": [
    "#re.search\n",
    "elon = \"Posting Tesla Impact Report, this time with summary points & charts in my reply tweets https://tesla.com/ns_videos/2019-tesla-impact-report.pdf\""
   ]
  },
  {
   "cell_type": "code",
   "execution_count": null,
   "metadata": {},
   "outputs": [],
   "source": [
    "re.search(r'Tesla',elon)"
   ]
  },
  {
   "cell_type": "markdown",
   "metadata": {},
   "source": [
    "### 1.2. Match"
   ]
  },
  {
   "cell_type": "code",
   "execution_count": null,
   "metadata": {},
   "outputs": [],
   "source": [
    "#re.match\n",
    "\n",
    "sequence = \"I want a Cookie\"\n",
    "sequence2= \"Cookie, I want you!\""
   ]
  },
  {
   "cell_type": "code",
   "execution_count": null,
   "metadata": {},
   "outputs": [],
   "source": [
    "pattern = r\"Cookie\""
   ]
  },
  {
   "cell_type": "code",
   "execution_count": null,
   "metadata": {},
   "outputs": [],
   "source": [
    "if re.match(pattern,sequence2):\n",
    "    print(\"Match!\")\n",
    "else:\n",
    "    print(\"No match :(\")"
   ]
  },
  {
   "cell_type": "code",
   "execution_count": null,
   "metadata": {},
   "outputs": [],
   "source": [
    "txt = \"The rain in Spain\"\n",
    "\n",
    "\n",
    "#matches at the beginning of the string\n",
    "print(re.match(r'r\\w*', txt))\n",
    "print(re.match(r'^r\\w*', txt))\n",
    "print(re.match(r'^T\\w*', txt))\n",
    "print(re.match(r'T\\w*', txt))"
   ]
  },
  {
   "cell_type": "code",
   "execution_count": null,
   "metadata": {},
   "outputs": [],
   "source": [
    "email_address = 'Please contact us at: support@data.mad.com, hola'\n",
    "encuentra = re.search(r'(\\w+)@([\\.\\w]+)', email_address)\n",
    "\n",
    "print(\"El objeto: \", encuentra)\n",
    "\n",
    "\n",
    "if encuentra:\n",
    "    print(encuentra.group()) # The whole matched text\n",
    "    print(encuentra.group(1)) # The username (group 1)\n",
    "    print(encuentra.group(2)) # The host (group 2)"
   ]
  },
  {
   "cell_type": "markdown",
   "metadata": {},
   "source": [
    "### 1.3. Find all"
   ]
  },
  {
   "cell_type": "code",
   "execution_count": null,
   "metadata": {},
   "outputs": [],
   "source": [
    "#re.findall\n",
    "\n",
    "re.findall()"
   ]
  },
  {
   "cell_type": "code",
   "execution_count": null,
   "metadata": {},
   "outputs": [],
   "source": [
    "emails = \"rastas@ironhack.es, ignaci0@ih.eu, shEri_fffff@aironjad.edu, fern4ndocosta@aironjan.ih\""
   ]
  },
  {
   "cell_type": "code",
   "execution_count": null,
   "metadata": {},
   "outputs": [],
   "source": [
    "email_pattern = r'(\\w+)@([\\w\\.]+)'"
   ]
  },
  {
   "cell_type": "code",
   "execution_count": null,
   "metadata": {},
   "outputs": [],
   "source": [
    "matches = re.search(email_pattern, emails)"
   ]
  },
  {
   "cell_type": "code",
   "execution_count": null,
   "metadata": {},
   "outputs": [],
   "source": [
    "\n",
    "email_address = \"Please contact us at: support.data@data-mad.com, amanda@ironhack.com,amanda@ironhack.com\"\n",
    "addresses = re.findall(r'[\\w\\.]+@[\\w\\-\\.]+', email_address)\n",
    "addresses\n",
    "\n",
    "#'addresses' is a list that stores all the possible match\n",
    "\n"
   ]
  },
  {
   "cell_type": "code",
   "execution_count": null,
   "metadata": {},
   "outputs": [],
   "source": [
    "print(re.findall('[^aeiou\\s]',email_address))\n",
    "\n",
    "\n",
    "# Match a single character not present in the list\n",
    "print(re.findall('\\sc\\w*',email_address))\n",
    "print(re.findall('^P\\w*',email_address))"
   ]
  },
  {
   "cell_type": "markdown",
   "metadata": {},
   "source": [
    "#### 2. WORKING with the pattern 🛠\n",
    "2.1. sub<br />\n",
    "2.2. split<br />\n",
    "2.3. lambda"
   ]
  },
  {
   "cell_type": "markdown",
   "metadata": {},
   "source": [
    "2 .1. **sub()**\n",
    "Replaces one or many matches with a string"
   ]
  },
  {
   "cell_type": "code",
   "execution_count": null,
   "metadata": {},
   "outputs": [],
   "source": [
    "txt = \"La vida es una tómbola, tom tom tómbola\""
   ]
  },
  {
   "cell_type": "code",
   "execution_count": null,
   "metadata": {},
   "outputs": [],
   "source": [
    "#re.sub\n",
    "#Literals\n",
    "txt2 = re.sub(r't','T',txt)\n",
    "txt2"
   ]
  },
  {
   "cell_type": "code",
   "execution_count": null,
   "metadata": {},
   "outputs": [],
   "source": [
    "txt3 = \"Weeeeeee, estoy haciendo un bootcamp de data en Ironhack???\""
   ]
  },
  {
   "cell_type": "code",
   "execution_count": null,
   "metadata": {},
   "outputs": [],
   "source": [
    "#Escape special character, quantifiers\n",
    "prueba = re.sub(r'\\?{3}','!',txt3)"
   ]
  },
  {
   "cell_type": "code",
   "execution_count": null,
   "metadata": {},
   "outputs": [],
   "source": [
    "my_text = \"i have the same code and it doesn't work\""
   ]
  },
  {
   "cell_type": "code",
   "execution_count": null,
   "metadata": {},
   "outputs": [],
   "source": [
    "la_letra = \"HOLA\""
   ]
  },
  {
   "cell_type": "code",
   "execution_count": null,
   "metadata": {},
   "outputs": [],
   "source": [
    "re.sub('i',la_letra, my_text)"
   ]
  },
  {
   "cell_type": "code",
   "execution_count": null,
   "metadata": {},
   "outputs": [],
   "source": [
    "my_text"
   ]
  },
  {
   "cell_type": "code",
   "execution_count": null,
   "metadata": {},
   "outputs": [],
   "source": [
    "print(prueba)"
   ]
  },
  {
   "cell_type": "markdown",
   "metadata": {},
   "source": [
    "2.2 **split()**\n",
    "Returns a list where the string has been split at each match"
   ]
  },
  {
   "cell_type": "code",
   "execution_count": null,
   "metadata": {},
   "outputs": [],
   "source": [
    "#re.split\n",
    "prophet=['the{7}',\n",
    " 'chosen',\n",
    " 'and',\n",
    " 'the\\nbeloved,',\n",
    " 'who',\n",
    " 'was{34}',\n",
    " 'a',\n",
    " 'dawn',\n",
    " 'unto{6}der',\n",
    " 'his']"
   ]
  },
  {
   "cell_type": "code",
   "execution_count": null,
   "metadata": {},
   "outputs": [],
   "source": [
    "def reference(x):\n",
    "    a = re.split(\"{\\d+}\",x)\n",
    "    return a[0]"
   ]
  },
  {
   "cell_type": "code",
   "execution_count": null,
   "metadata": {},
   "outputs": [],
   "source": [
    "reference('the{7}')"
   ]
  },
  {
   "cell_type": "code",
   "execution_count": null,
   "metadata": {},
   "outputs": [],
   "source": [
    "#pass the function iterating over the list\n",
    "prophet_reference = list(map(reference,prophet))\n",
    "print(prophet_reference)\n",
    "\n",
    "\n",
    "\n",
    "#flatten list\n",
    "pro = [e for a in prophet_reference for e in a]\n",
    "print(pro)"
   ]
  },
  {
   "cell_type": "markdown",
   "metadata": {},
   "source": [
    "2.3. **lambda**"
   ]
  },
  {
   "cell_type": "code",
   "execution_count": null,
   "metadata": {},
   "outputs": [],
   "source": [
    "letters = \"ABCDEFGHIJKL...HSSIDHNSN...SODHD...AAA\"\n",
    "part = re.sub(r'(\\.{3})', lambda x: \"!\", letters, flags=re.DOTALL)"
   ]
  },
  {
   "cell_type": "code",
   "execution_count": null,
   "metadata": {},
   "outputs": [],
   "source": [
    "letters"
   ]
  },
  {
   "cell_type": "markdown",
   "metadata": {},
   "source": [
    "## HANDS ON ## "
   ]
  },
  {
   "cell_type": "markdown",
   "metadata": {},
   "source": [
    "Nigerian prince scams"
   ]
  },
  {
   "cell_type": "code",
   "execution_count": null,
   "metadata": {},
   "outputs": [],
   "source": [
    "emails_info={}"
   ]
  },
  {
   "cell_type": "code",
   "execution_count": null,
   "metadata": {},
   "outputs": [],
   "source": [
    "fh = open(\"emails.txt\", \"r\").read()\n",
    "contents = re.split(r\"From r\", fh)"
   ]
  },
  {
   "cell_type": "code",
   "execution_count": null,
   "metadata": {},
   "outputs": [],
   "source": [
    "fh"
   ]
  },
  {
   "cell_type": "code",
   "execution_count": null,
   "metadata": {},
   "outputs": [],
   "source": [
    "#info_sender\n",
    "info_sender = re.findall(r\"From:.*\",fh)\n",
    "print(info_sender)"
   ]
  },
  {
   "cell_type": "code",
   "execution_count": null,
   "metadata": {},
   "outputs": [],
   "source": [
    "#sender_email\n",
    "emails_info['sender_email']=[]\n",
    "for line in info_sender:\n",
    "    res = re.findall(r\"[\\w\\.]+@[\\w\\.-]+\",line)\n",
    "    if res:\n",
    "        emails_info['sender_email'].append(res[0])\n",
    "    else:\n",
    "        emails_info['sender_email'].append('')\n",
    "emails_info['sender_email']"
   ]
  },
  {
   "cell_type": "code",
   "execution_count": null,
   "metadata": {},
   "outputs": [],
   "source": [
    "#sender name\n",
    "emails_info['sender_name']=[]\n",
    "for line in info_sender:\n",
    "    res=re.findall(r\":.*<\",line)\n",
    "    if res:\n",
    "        emails_info['sender_name'].append(res[0][1:-1])\n",
    "    else:\n",
    "        emails_info['sender_name'].append('')\n",
    "emails_info['sender_name']"
   ]
  },
  {
   "cell_type": "code",
   "execution_count": null,
   "metadata": {},
   "outputs": [],
   "source": [
    "#DATES\n",
    "dates = re.findall(r\"Date:.*\",fh)\n",
    "dates"
   ]
  },
  {
   "cell_type": "code",
   "execution_count": null,
   "metadata": {},
   "outputs": [],
   "source": [
    "emails_info['date_sent']=[]\n",
    "for dat in dates:\n",
    "    res = re.findall(r\"\\d+\\s\\w{3}\\s\\d+\",dat)\n",
    "    if res:\n",
    "        emails_info['date_sent'].append(res[0])\n",
    "    else:\n",
    "        emails_info['date_sent'].append('')\n",
    "emails_info['date_sent']"
   ]
  },
  {
   "cell_type": "code",
   "execution_count": null,
   "metadata": {},
   "outputs": [],
   "source": [
    "emails_info['time_sent']=[]\n",
    "for time in dates:\n",
    "    res = re.findall(r\"\\d{2}:\\d{2}.*\\s\",time)\n",
    "    if res:\n",
    "        emails_info['time_sent'].append(res[0][:-1])\n",
    "    else:\n",
    "        emails_info['time_sent'].append('')\n",
    "emails_info['time_sent']"
   ]
  },
  {
   "cell_type": "code",
   "execution_count": null,
   "metadata": {},
   "outputs": [],
   "source": [
    "#subject\n",
    "subjects=re.findall(r\"Subject:.*\",fh)\n",
    "subjects"
   ]
  },
  {
   "cell_type": "code",
   "execution_count": null,
   "metadata": {},
   "outputs": [],
   "source": [
    "emails_info['subject']=[]\n",
    "for sub in subjects:\n",
    "    res=re.findall(r\":.*\",sub)\n",
    "    if res:\n",
    "        emails_info['subject'].append(res[0][2:])\n",
    "    else:\n",
    "        emails_info['subject'].append('')\n",
    "emails_info['subject']"
   ]
  },
  {
   "cell_type": "code",
   "execution_count": null,
   "metadata": {},
   "outputs": [],
   "source": [
    "for k,v in emails_info.items():\n",
    "    emails_info[k]=emails_info[k][:30]"
   ]
  },
  {
   "cell_type": "code",
   "execution_count": null,
   "metadata": {},
   "outputs": [],
   "source": [
    "emails_info.items()"
   ]
  },
  {
   "cell_type": "code",
   "execution_count": null,
   "metadata": {},
   "outputs": [],
   "source": [
    "df = pd.DataFrame(emails_info)\n",
    "df.head(20)"
   ]
  },
  {
   "cell_type": "markdown",
   "metadata": {},
   "source": [
    "<table border=\"0\">\n",
    "\n",
    " <tr>\n",
    "    <td><img src=\"https://res.cloudinary.com/practicaldev/image/fetch/s--gsBGWIUU--/c_limit%2Cf_auto%2Cfl_progressive%2Cq_auto%2Cw_880/https://dev-to-uploads.s3.amazonaws.com/i/645k4datx5cvp6hevxt2.png\" alt=\"meme\" style=\"width: 250px;\"/><br /></td>\n",
    "    <td><img src=\"https://i.redd.it/rqq6db7xja831.png\" alt=\"meme\" style=\"width: 250px;\"/><br /></td>\n",
    " </tr>\n",
    "</table>"
   ]
  }
 ],
 "metadata": {
  "kernelspec": {
   "display_name": "Python 3",
   "language": "python",
   "name": "python3"
  },
  "language_info": {
   "codemirror_mode": {
    "name": "ipython",
    "version": 3
   },
   "file_extension": ".py",
   "mimetype": "text/x-python",
   "name": "python",
   "nbconvert_exporter": "python",
   "pygments_lexer": "ipython3",
   "version": "3.7.7"
  }
 },
 "nbformat": 4,
 "nbformat_minor": 4
}
